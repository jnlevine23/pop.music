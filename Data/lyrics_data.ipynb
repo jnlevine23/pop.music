{
 "cells": [
  {
   "cell_type": "markdown",
   "metadata": {},
   "source": [
    "# Project Fletcher\n",
    "\n",
    "#### Song Lyric Data Gathering\n"
   ]
  },
  {
   "cell_type": "code",
   "execution_count": 12,
   "metadata": {},
   "outputs": [
    {
     "name": "stdout",
     "output_type": "stream",
     "text": [
      "Populating the interactive namespace from numpy and matplotlib\n"
     ]
    }
   ],
   "source": [
    "import pandas as pd \n",
    "import numpy as np\n",
    "import os\n",
    "import re\n",
    "import requests\n",
    "from bs4 import BeautifulSoup\n",
    "from pandas.io.json import json_normalize\n",
    "from pprint import pprint\n",
    "import glob\n",
    "import pickle\n",
    "import time\n",
    "import datetime\n",
    "\n",
    "%pylab inline"
   ]
  },
  {
   "cell_type": "code",
   "execution_count": 9,
   "metadata": {},
   "outputs": [],
   "source": [
    "with open(\"billboard.pkl\", \"rb\") as f:\n",
    "    billboard_df = pickle.load(f)"
   ]
  },
  {
   "cell_type": "code",
   "execution_count": 253,
   "metadata": {
    "scrolled": true
   },
   "outputs": [],
   "source": [
    "#billboard_df"
   ]
  },
  {
   "cell_type": "code",
   "execution_count": 254,
   "metadata": {},
   "outputs": [],
   "source": [
    "# billboard_df[billboard_df.Artist == 'Connie Stevens']\n",
    "\n",
    "# billboard_df[['Song Title', 'Artist']]\n",
    "\n",
    "# for song,artist in zip(billboard_df['Song Title'], billboard_df['Artist']): \n",
    "#     print(artist)"
   ]
  },
  {
   "cell_type": "markdown",
   "metadata": {},
   "source": [
    "# Using Genius API and BeautifulSoup"
   ]
  },
  {
   "cell_type": "code",
   "execution_count": 26,
   "metadata": {},
   "outputs": [],
   "source": [
    "total_lyrics_1 = total_lyrics"
   ]
  },
  {
   "cell_type": "code",
   "execution_count": 65,
   "metadata": {},
   "outputs": [],
   "source": [
    "df_all = billboard_df.merge(lyrics_df, how='left', on=['Song Title', 'Artist'])\n",
    "df_all.drop_duplicates(inplace=True)\n",
    "df_all.reset_index(inplace=True)\n",
    "del df_all['index']\n",
    "df_all.fillna(value=np.nan, inplace=True)"
   ]
  },
  {
   "cell_type": "code",
   "execution_count": 1,
   "metadata": {},
   "outputs": [],
   "source": [
    "# BE CAREFUL - TAKES VERY LONG TO RUN \n",
    "\n",
    "index = 0 \n",
    "total_lyrics = {}\n",
    "for song, artist in zip(no_lyrics['Song Title'], no_lyrics['Artist']): \n",
    "    lyrics_dict = {\"Song Title\":[],\n",
    "                  \"Artist\":[],\n",
    "                  \"Lyrics\":[]}\n",
    "\n",
    "    client_access_token = 'AQ6w7HEjzS1jQsmbwGQIK9SIOfUC26up0Z1tMRC5iuMzxTYGAgphmoPT1cPKVowF'\n",
    "    base_url = 'https://api.genius.com'\n",
    "\n",
    "    token = 'Bearer {}'.format(client_access_token)\n",
    "    headers = {'Authorization': token}\n",
    "\n",
    "    song_title = song\n",
    "    artist_name = artist \n",
    "\n",
    "    lyrics_dict[\"Song Title\"] = song_title\n",
    "    lyrics_dict[\"Artist\"] = artist_name\n",
    "\n",
    "    def get_lyrics(song_api_path):\n",
    "        song_url = base_url + song_api_path\n",
    "        response = requests.get(song_url, headers=headers)\n",
    "        json = response.json()\n",
    "        path = json[\"response\"][\"song\"][\"path\"]\n",
    "\n",
    "        page_url = \"https://genius.com\" + path\n",
    "        page = requests.get(page_url)\n",
    "        print(page_url)\n",
    "        print(page.status_code)\n",
    "        soup = BeautifulSoup(page.text, \"html5lib\")\n",
    "        [i.extract() for i in soup('script')]\n",
    "        lyrics = soup.find(\"div\", class_=\"lyrics\").get_text().encode('ascii', 'ignore')\n",
    "        return lyrics \n",
    "\n",
    "    if __name__ == \"__main__\":\n",
    "        path = 'search/'\n",
    "        request_uri = '/'.join([base_url, path])\n",
    "        params = {'q': song_title}\n",
    "        time.sleep(2)\n",
    "        r = requests.get(request_uri, params=params, headers=headers)\n",
    "        print(r.status_code)\n",
    "        json = r.json()\n",
    "        song_info = None\n",
    "        #print(json)\n",
    "\n",
    "        #For specifying particular song among list of songs\n",
    "        #If artist name appears somewhere in artist hit name (catches bands that begin with \"The\")\n",
    "        for hit in json[\"response\"][\"hits\"]:\n",
    "            if artist_name.lower() in hit[\"result\"][\"primary_artist\"][\"name\"].lower():\n",
    "                #print(hit)\n",
    "                song_info = hit\n",
    "                break\n",
    "        if song_info:\n",
    "            song_api_path = song_info[\"result\"][\"api_path\"]\n",
    "            #print(song_api_path)\n",
    "            lyrics_dict[\"Lyrics\"] = get_lyrics(song_api_path)\n",
    "            total_lyrics[index] = lyrics_dict\n",
    "            index += 1"
   ]
  },
  {
   "cell_type": "code",
   "execution_count": 247,
   "metadata": {},
   "outputs": [],
   "source": [
    "column_names = ['Song Title', 'Artist', 'Lyrics']\n",
    "new_lyrics = pd.DataFrame.from_dict(total_lyrics, orient='index')\n",
    "new_lyrics.columns = column_names"
   ]
  },
  {
   "cell_type": "code",
   "execution_count": 249,
   "metadata": {},
   "outputs": [],
   "source": [
    "for song, artist, lyrics in zip(new_lyrics['Song Title'], new_lyrics['Artist'], new_lyrics['Lyrics']):     \n",
    "    df_all.loc[(df_all[\"Song Title\"]==song)&(df_all[\"Artist\"]==artist), \"Lyrics\"] = lyrics\n"
   ]
  },
  {
   "cell_type": "code",
   "execution_count": 251,
   "metadata": {},
   "outputs": [
    {
     "data": {
      "text/plain": [
       "position         0\n",
       "Song Title       0\n",
       "Artist           0\n",
       "Year             0\n",
       "Lyrics        2161\n",
       "dtype: int64"
      ]
     },
     "execution_count": 251,
     "metadata": {},
     "output_type": "execute_result"
    }
   ],
   "source": [
    "df_all.isnull().sum()"
   ]
  },
  {
   "cell_type": "code",
   "execution_count": 262,
   "metadata": {},
   "outputs": [],
   "source": [
    "column_names = ['Song Title', 'Artist', 'Lyrics']\n",
    "new_lyrics = pd.DataFrame.from_dict(total_lyrics, orient='index')\n",
    "new_lyrics.columns = column_names"
   ]
  },
  {
   "cell_type": "code",
   "execution_count": 263,
   "metadata": {},
   "outputs": [],
   "source": [
    "for song, artist, lyrics in zip(new_lyrics['Song Title'], new_lyrics['Artist'], new_lyrics['Lyrics']):     \n",
    "    df_all.loc[(df_all[\"Song Title\"]==song)&(df_all[\"Artist\"]==artist), \"Lyrics\"] = lyrics"
   ]
  },
  {
   "cell_type": "code",
   "execution_count": 269,
   "metadata": {},
   "outputs": [
    {
     "data": {
      "text/plain": [
       "(6180, 5)"
      ]
     },
     "execution_count": 269,
     "metadata": {},
     "output_type": "execute_result"
    }
   ],
   "source": [
    "df_all.shape"
   ]
  },
  {
   "cell_type": "code",
   "execution_count": 268,
   "metadata": {
    "scrolled": true
   },
   "outputs": [
    {
     "data": {
      "text/plain": [
       "1571"
      ]
     },
     "execution_count": 268,
     "metadata": {},
     "output_type": "execute_result"
    }
   ],
   "source": [
    "df_all.Lyrics.isnull().sum()"
   ]
  },
  {
   "cell_type": "code",
   "execution_count": 273,
   "metadata": {},
   "outputs": [],
   "source": [
    "no_lyrics = df_all[df_all.Lyrics.isnull()]"
   ]
  },
  {
   "cell_type": "code",
   "execution_count": 364,
   "metadata": {
    "scrolled": true
   },
   "outputs": [],
   "source": [
    "pd.set_option(\"max_rows\", 200)\n",
    "#no_lyrics"
   ]
  },
  {
   "cell_type": "code",
   "execution_count": 2,
   "metadata": {
    "scrolled": true
   },
   "outputs": [],
   "source": [
    "\n",
    "# # BE CAREFUL - TAKES VERY LONG TO RUN \n",
    "\n",
    "# index = 0 \n",
    "# total_lyrics = {}\n",
    "# for song, artist in zip(no_lyrics['Song Title'], no_lyrics['Artist']): \n",
    "#     lyrics_dict = {\"Song Title\":[],\n",
    "#                   \"Artist\":[],\n",
    "#                   \"Lyrics\":[]}\n",
    "\n",
    "#     client_access_token = 'AQ6w7HEjzS1jQsmbwGQIK9SIOfUC26up0Z1tMRC5iuMzxTYGAgphmoPT1cPKVowF'\n",
    "#     base_url = 'https://api.genius.com'\n",
    "\n",
    "#     token = 'Bearer {}'.format(client_access_token)\n",
    "#     headers = {'Authorization': token}\n",
    "\n",
    "#     song_title = song\n",
    "#     artist_name = artist\n",
    "\n",
    "#     lyrics_dict[\"Song Title\"] = song_title\n",
    "#     lyrics_dict[\"Artist\"] = artist_name\n",
    "\n",
    "#     def get_lyrics(song_api_path):\n",
    "#         song_url = base_url + song_api_path\n",
    "#         response = requests.get(song_url, headers=headers)\n",
    "#         json = response.json()\n",
    "#         path = json[\"response\"][\"song\"][\"path\"]\n",
    "\n",
    "#         page_url = \"https://genius.com\" + path\n",
    "#         page = requests.get(page_url)\n",
    "#         print(page_url)\n",
    "#         print(page.status_code)\n",
    "#         soup = BeautifulSoup(page.text, \"html5lib\")\n",
    "#         [i.extract() for i in soup('script')]\n",
    "#         lyrics = soup.find(\"div\", class_=\"lyrics\").get_text().encode('ascii', 'ignore')\n",
    "#         return lyrics \n",
    "\n",
    "#     if __name__ == \"__main__\":\n",
    "#         path = 'search/'\n",
    "#         request_uri = '/'.join([base_url, path])\n",
    "#         params = {'q': song_title,\n",
    "#                  'per_page': 30,\n",
    "#                  'page': 20}\n",
    "#         #time.sleep(2)\n",
    "#         r = requests.get(request_uri, params=params, headers=headers)\n",
    "#         print(r.status_code)\n",
    "#         json = r.json()\n",
    "#         song_info = None\n",
    "#         #pprint(json)\n",
    "\n",
    "#         #For specifying particular song among list of songs \n",
    "        \n",
    "#         for hit in json[\"response\"][\"hits\"]:\n",
    "#             if hit[\"result\"][\"primary_artist\"][\"name\"].lower() in artist_name.lower() or artist_name.lower() in hit[\"result\"][\"primary_artist\"][\"name\"].lower():\n",
    "#                 #pprint(hit)\n",
    "#                 song_info = hit\n",
    "#                 break\n",
    "#         if song_info:\n",
    "#             song_api_path = song_info[\"result\"][\"api_path\"]\n",
    "#             #pprint(song_api_path)\n",
    "#             lyrics_dict[\"Lyrics\"] = get_lyrics(song_api_path)\n",
    "#             total_lyrics[index] = lyrics_dict\n",
    "#             index += 1"
   ]
  },
  {
   "cell_type": "code",
   "execution_count": 339,
   "metadata": {},
   "outputs": [],
   "source": [
    "column_names = ['Song Title', 'Artist', 'Lyrics']\n",
    "new_lyrics = pd.DataFrame.from_dict(total_lyrics, orient='index')\n",
    "new_lyrics.columns = column_names\n",
    "\n",
    "for song, artist, lyrics in zip(new_lyrics['Song Title'], new_lyrics['Artist'], new_lyrics['Lyrics']):     \n",
    "    df_all.loc[(df_all[\"Song Title\"]==song)&(df_all[\"Artist\"]==artist), \"Lyrics\"] = lyrics\n",
    "    \n",
    "no_lyrics = df_all[df_all.Lyrics.isnull()]"
   ]
  },
  {
   "cell_type": "code",
   "execution_count": 340,
   "metadata": {},
   "outputs": [
    {
     "data": {
      "text/plain": [
       "(1544, 5)"
      ]
     },
     "execution_count": 340,
     "metadata": {},
     "output_type": "execute_result"
    }
   ],
   "source": [
    "no_lyrics.shape"
   ]
  },
  {
   "cell_type": "code",
   "execution_count": 347,
   "metadata": {},
   "outputs": [],
   "source": [
    "import lyricfetcher"
   ]
  },
  {
   "cell_type": "code",
   "execution_count": 409,
   "metadata": {},
   "outputs": [
    {
     "data": {
      "text/plain": [
       "(430, 5)"
      ]
     },
     "execution_count": 409,
     "metadata": {},
     "output_type": "execute_result"
    }
   ],
   "source": [
    "no_lyrics.shape"
   ]
  },
  {
   "cell_type": "code",
   "execution_count": 411,
   "metadata": {},
   "outputs": [],
   "source": [
    "index = 0 \n",
    "total_lyrics = {}\n",
    "\n",
    "for song, artist in zip(no_lyrics['Song Title'], no_lyrics['Artist']): \n",
    "    try:\n",
    "        lyrics = lyricfetcher.get_lyrics('genius', artist, song)\n",
    "    except:\n",
    "        lyrics = 404 \n",
    "    lyrics_dict = {\"Song Title\":[],\n",
    "                  \"Artist\":[],\n",
    "                  \"Lyrics\":[]}\n",
    "    \n",
    "    lyrics_dict['Lyrics'] = lyrics\n",
    "    lyrics_dict[\"Song Title\"] = song\n",
    "    lyrics_dict[\"Artist\"] = artist\n",
    "    total_lyrics[index] = lyrics_dict\n",
    "    index += 1\n",
    "    "
   ]
  },
  {
   "cell_type": "code",
   "execution_count": 413,
   "metadata": {
    "scrolled": true
   },
   "outputs": [],
   "source": [
    "# lyrics = lyricfetcher.get_lyrics('genius', 'al hibbler', 'unchained melody')\n",
    "# lyrics"
   ]
  },
  {
   "cell_type": "code",
   "execution_count": 414,
   "metadata": {},
   "outputs": [],
   "source": [
    "#pprint(total_lyrics)"
   ]
  },
  {
   "cell_type": "code",
   "execution_count": 398,
   "metadata": {},
   "outputs": [],
   "source": [
    "# column_names = ['Song Title', 'Artist', 'Lyrics']\n",
    "# new_lyrics = pd.DataFrame.from_dict(total_lyrics, orient='index')\n",
    "# new_lyrics.columns = column_names\n",
    "\n",
    "# for song, artist, lyrics in zip(new_lyrics['Song Title'], new_lyrics['Artist'], new_lyrics['Lyrics']):     \n",
    "#     df_all.loc[(df_all[\"Song Title\"]==song)&(df_all[\"Artist\"]==artist), \"Lyrics\"] = lyrics\n",
    "    \n",
    "# #no_lyrics = df_all[df_all.Lyrics.isnull()]"
   ]
  },
  {
   "cell_type": "code",
   "execution_count": 417,
   "metadata": {},
   "outputs": [],
   "source": [
    "df_all.replace(404, np.nan, inplace=True)"
   ]
  },
  {
   "cell_type": "markdown",
   "metadata": {},
   "source": [
    "# Have 93% of Lyrics"
   ]
  },
  {
   "cell_type": "code",
   "execution_count": 419,
   "metadata": {},
   "outputs": [
    {
     "data": {
      "text/plain": [
       "position        0\n",
       "Song Title      0\n",
       "Artist          0\n",
       "Year            0\n",
       "Lyrics        430\n",
       "dtype: int64"
      ]
     },
     "execution_count": 419,
     "metadata": {},
     "output_type": "execute_result"
    }
   ],
   "source": [
    "df_all.isnull().sum()"
   ]
  },
  {
   "cell_type": "code",
   "execution_count": 421,
   "metadata": {},
   "outputs": [],
   "source": [
    "no_lyrics = df_all[df_all.Lyrics.isnull()]"
   ]
  },
  {
   "cell_type": "code",
   "execution_count": 3,
   "metadata": {
    "scrolled": true
   },
   "outputs": [],
   "source": [
    "# dist = no_lyrics.Year.value_counts()"
   ]
  },
  {
   "cell_type": "code",
   "execution_count": 4,
   "metadata": {},
   "outputs": [],
   "source": [
    "# df_all[df_all.Lyrics.isnull()]"
   ]
  },
  {
   "cell_type": "code",
   "execution_count": 456,
   "metadata": {},
   "outputs": [
    {
     "data": {
      "text/html": [
       "<div>\n",
       "<style scoped>\n",
       "    .dataframe tbody tr th:only-of-type {\n",
       "        vertical-align: middle;\n",
       "    }\n",
       "\n",
       "    .dataframe tbody tr th {\n",
       "        vertical-align: top;\n",
       "    }\n",
       "\n",
       "    .dataframe thead th {\n",
       "        text-align: right;\n",
       "    }\n",
       "</style>\n",
       "<table border=\"1\" class=\"dataframe\">\n",
       "  <thead>\n",
       "    <tr style=\"text-align: right;\">\n",
       "      <th></th>\n",
       "      <th>position</th>\n",
       "      <th>Song Title</th>\n",
       "      <th>Artist</th>\n",
       "      <th>Year</th>\n",
       "      <th>Lyrics</th>\n",
       "    </tr>\n",
       "  </thead>\n",
       "  <tbody>\n",
       "    <tr>\n",
       "      <th>4821</th>\n",
       "      <td>42.0</td>\n",
       "      <td>No Such Thing</td>\n",
       "      <td>John Mayer</td>\n",
       "      <td>2002</td>\n",
       "      <td>b'\\n\\n[Verse 1]\\n\"Welcome to the real world\", ...</td>\n",
       "    </tr>\n",
       "    <tr>\n",
       "      <th>4927</th>\n",
       "      <td>48.0</td>\n",
       "      <td>Your Body Is A Wonderland</td>\n",
       "      <td>John Mayer</td>\n",
       "      <td>2003</td>\n",
       "      <td>b\"\\n\\n[Verse 1]\\nWe got the afternoon\\nYou got...</td>\n",
       "    </tr>\n",
       "    <tr>\n",
       "      <th>5162</th>\n",
       "      <td>83.0</td>\n",
       "      <td>Daughters</td>\n",
       "      <td>John Mayer</td>\n",
       "      <td>2005</td>\n",
       "      <td>b\"\\n\\n[Verse 1]\\nI know a girl\\nShe puts the c...</td>\n",
       "    </tr>\n",
       "    <tr>\n",
       "      <th>5266</th>\n",
       "      <td>87.0</td>\n",
       "      <td>Waiting on the World to Change</td>\n",
       "      <td>John Mayer</td>\n",
       "      <td>2006</td>\n",
       "      <td>b\"\\n\\n[Verse 1]\\nMe and all my friends\\nWe're ...</td>\n",
       "    </tr>\n",
       "    <tr>\n",
       "      <th>5326</th>\n",
       "      <td>47.0</td>\n",
       "      <td>Waiting On The World To Change</td>\n",
       "      <td>John Mayer</td>\n",
       "      <td>2007</td>\n",
       "      <td>b\"\\n\\n[Verse 1]\\nMe and all my friends\\nWe're ...</td>\n",
       "    </tr>\n",
       "    <tr>\n",
       "      <th>5439</th>\n",
       "      <td>60.0</td>\n",
       "      <td>Say</td>\n",
       "      <td>John Mayer</td>\n",
       "      <td>2008</td>\n",
       "      <td>Take out of your wasted honor\\nEvery little pa...</td>\n",
       "    </tr>\n",
       "  </tbody>\n",
       "</table>\n",
       "</div>"
      ],
      "text/plain": [
       "      position                      Song Title      Artist  Year  \\\n",
       "4821      42.0                   No Such Thing  John Mayer  2002   \n",
       "4927      48.0       Your Body Is A Wonderland  John Mayer  2003   \n",
       "5162      83.0                       Daughters  John Mayer  2005   \n",
       "5266      87.0  Waiting on the World to Change  John Mayer  2006   \n",
       "5326      47.0  Waiting On The World To Change  John Mayer  2007   \n",
       "5439      60.0                             Say  John Mayer  2008   \n",
       "\n",
       "                                                 Lyrics  \n",
       "4821  b'\\n\\n[Verse 1]\\n\"Welcome to the real world\", ...  \n",
       "4927  b\"\\n\\n[Verse 1]\\nWe got the afternoon\\nYou got...  \n",
       "5162  b\"\\n\\n[Verse 1]\\nI know a girl\\nShe puts the c...  \n",
       "5266  b\"\\n\\n[Verse 1]\\nMe and all my friends\\nWe're ...  \n",
       "5326  b\"\\n\\n[Verse 1]\\nMe and all my friends\\nWe're ...  \n",
       "5439  Take out of your wasted honor\\nEvery little pa...  "
      ]
     },
     "execution_count": 456,
     "metadata": {},
     "output_type": "execute_result"
    }
   ],
   "source": [
    "df_all[df_all.Artist == 'John Mayer']"
   ]
  },
  {
   "cell_type": "code",
   "execution_count": 457,
   "metadata": {},
   "outputs": [],
   "source": [
    "with open(\"lyrics_all.pkl\", \"wb\") as f:\n",
    "    pickle.dump(df_all, f)"
   ]
  },
  {
   "cell_type": "code",
   "execution_count": 458,
   "metadata": {},
   "outputs": [],
   "source": [
    "#Testing opening pickled model \n",
    "with open(\"lyrics_all.pkl\", \"rb\") as f:\n",
    "    df_all = pickle.load(f)"
   ]
  }
 ],
 "metadata": {
  "kernelspec": {
   "display_name": "Python 3",
   "language": "python",
   "name": "python3"
  },
  "language_info": {
   "codemirror_mode": {
    "name": "ipython",
    "version": 3
   },
   "file_extension": ".py",
   "mimetype": "text/x-python",
   "name": "python",
   "nbconvert_exporter": "python",
   "pygments_lexer": "ipython3",
   "version": "3.6.4"
  }
 },
 "nbformat": 4,
 "nbformat_minor": 2
}
