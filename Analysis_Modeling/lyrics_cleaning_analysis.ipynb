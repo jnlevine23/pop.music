{
 "cells": [
  {
   "cell_type": "markdown",
   "metadata": {},
   "source": [
    "# Lyrics Cleaning "
   ]
  },
  {
   "cell_type": "code",
   "execution_count": 11,
   "metadata": {},
   "outputs": [
    {
     "name": "stdout",
     "output_type": "stream",
     "text": [
      "Populating the interactive namespace from numpy and matplotlib\n"
     ]
    },
    {
     "name": "stderr",
     "output_type": "stream",
     "text": [
      "/home/ubuntu/miniconda3/lib/python3.6/site-packages/IPython/core/magics/pylab.py:160: UserWarning: pylab import has clobbered these variables: ['f']\n",
      "`%matplotlib` prevents importing * from pylab and numpy\n",
      "  \"\\n`%matplotlib` prevents importing * from pylab and numpy\"\n"
     ]
    }
   ],
   "source": [
    "import pandas as pd \n",
    "import numpy as np\n",
    "import os\n",
    "import re\n",
    "import requests\n",
    "from bs4 import BeautifulSoup\n",
    "from pandas.io.json import json_normalize\n",
    "from pprint import pprint\n",
    "import glob\n",
    "import pickle\n",
    "import time\n",
    "import datetime\n",
    "import seaborn as sns\n",
    "import nltk\n",
    "from textblob import TextBlob\n",
    "from sklearn.decomposition import NMF\n",
    "from sklearn.feature_extraction.text import CountVectorizer\n",
    "from nltk.util import ngrams\n",
    "from collections import Counter\n",
    "from operator import itemgetter\n",
    "from nltk.corpus import stopwords\n",
    "sns.set_style('darkgrid')\n",
    "\n",
    "%pylab inline"
   ]
  },
  {
   "cell_type": "code",
   "execution_count": 114,
   "metadata": {},
   "outputs": [],
   "source": [
    "pd.set_option(\"max_colwidth\", 50)"
   ]
  },
  {
   "cell_type": "code",
   "execution_count": 4,
   "metadata": {},
   "outputs": [
    {
     "name": "stdout",
     "output_type": "stream",
     "text": [
      "[nltk_data] Downloading package punkt to /home/ubuntu/nltk_data...\n",
      "[nltk_data]   Package punkt is already up-to-date!\n",
      "[nltk_data] Downloading package wordnet to /home/ubuntu/nltk_data...\n",
      "[nltk_data]   Package wordnet is already up-to-date!\n"
     ]
    },
    {
     "data": {
      "text/plain": [
       "True"
      ]
     },
     "execution_count": 4,
     "metadata": {},
     "output_type": "execute_result"
    }
   ],
   "source": [
    "nltk.download('punkt')\n",
    "nltk.download('wordnet')"
   ]
  },
  {
   "cell_type": "code",
   "execution_count": 5,
   "metadata": {},
   "outputs": [],
   "source": [
    "#opening pickled dataframe\n",
    "with open(\"lyrics_all.pkl\", \"rb\") as f:\n",
    "    df_all = pickle.load(f)"
   ]
  },
  {
   "cell_type": "code",
   "execution_count": 113,
   "metadata": {},
   "outputs": [
    {
     "data": {
      "text/plain": [
       "position        0\n",
       "Song Title      0\n",
       "Artist          0\n",
       "Year            0\n",
       "Lyrics        430\n",
       "dtype: int64"
      ]
     },
     "execution_count": 113,
     "metadata": {},
     "output_type": "execute_result"
    }
   ],
   "source": [
    "df_all.isnull().sum()"
   ]
  },
  {
   "cell_type": "code",
   "execution_count": 115,
   "metadata": {
    "scrolled": false
   },
   "outputs": [],
   "source": [
    "df_cleaned = df_all.dropna()"
   ]
  },
  {
   "cell_type": "code",
   "execution_count": 116,
   "metadata": {
    "scrolled": false
   },
   "outputs": [],
   "source": [
    "df_cleaned.reset_index(inplace=True)\n",
    "del df_cleaned['index']"
   ]
  },
  {
   "cell_type": "code",
   "execution_count": 117,
   "metadata": {
    "scrolled": true
   },
   "outputs": [],
   "source": [
    "#df_cleaned.Year.value_counts()"
   ]
  },
  {
   "cell_type": "code",
   "execution_count": 118,
   "metadata": {},
   "outputs": [
    {
     "name": "stderr",
     "output_type": "stream",
     "text": [
      "/home/ubuntu/miniconda3/lib/python3.6/site-packages/ipykernel_launcher.py:1: SettingWithCopyWarning: \n",
      "A value is trying to be set on a copy of a slice from a DataFrame.\n",
      "Try using .loc[row_indexer,col_indexer] = value instead\n",
      "\n",
      "See the caveats in the documentation: http://pandas.pydata.org/pandas-docs/stable/indexing.html#indexing-view-versus-copy\n",
      "  \"\"\"Entry point for launching an IPython kernel.\n"
     ]
    }
   ],
   "source": [
    "df_cleaned['Lyrics'] = df_cleaned.Lyrics.astype('str')"
   ]
  },
  {
   "cell_type": "code",
   "execution_count": 119,
   "metadata": {},
   "outputs": [
    {
     "data": {
      "text/plain": [
       "position      float64\n",
       "Song Title     object\n",
       "Artist         object\n",
       "Year            int64\n",
       "Lyrics         object\n",
       "dtype: object"
      ]
     },
     "execution_count": 119,
     "metadata": {},
     "output_type": "execute_result"
    }
   ],
   "source": [
    "df_cleaned.dtypes"
   ]
  },
  {
   "cell_type": "code",
   "execution_count": 120,
   "metadata": {},
   "outputs": [
    {
     "name": "stderr",
     "output_type": "stream",
     "text": [
      "/home/ubuntu/miniconda3/lib/python3.6/site-packages/ipykernel_launcher.py:3: SettingWithCopyWarning: \n",
      "A value is trying to be set on a copy of a slice from a DataFrame.\n",
      "Try using .loc[row_indexer,col_indexer] = value instead\n",
      "\n",
      "See the caveats in the documentation: http://pandas.pydata.org/pandas-docs/stable/indexing.html#indexing-view-versus-copy\n",
      "  This is separate from the ipykernel package so we can avoid doing imports until\n"
     ]
    }
   ],
   "source": [
    "#Create decade column \n",
    "bins = [1950, 1960, 1970, 1980, 1990, 2000, 2010, 2016]\n",
    "df_cleaned['Decade'] = pd.cut(df_cleaned.Year, bins, right=False)"
   ]
  },
  {
   "cell_type": "markdown",
   "metadata": {},
   "source": [
    "# Regex Cleaning"
   ]
  },
  {
   "cell_type": "code",
   "execution_count": 121,
   "metadata": {
    "scrolled": false
   },
   "outputs": [
    {
     "name": "stderr",
     "output_type": "stream",
     "text": [
      "/home/ubuntu/miniconda3/lib/python3.6/site-packages/pandas/core/generic.py:4619: SettingWithCopyWarning: \n",
      "A value is trying to be set on a copy of a slice from a DataFrame\n",
      "\n",
      "See the caveats in the documentation: http://pandas.pydata.org/pandas-docs/stable/indexing.html#indexing-view-versus-copy\n",
      "  self._update_inplace(new_data)\n"
     ]
    }
   ],
   "source": [
    "df_cleaned.Lyrics.replace(r'b\"|b\\'', '', regex=True, inplace=True)\n",
    "df_cleaned.Lyrics.replace(r'\\\\n', ' ', regex=True, inplace=True)\n",
    "df_cleaned.Lyrics.replace(r'\\n', ' ', regex=True, inplace=True)\n",
    "df_cleaned.Lyrics.replace(r'\\\\', '' , regex=True, inplace=True)\n",
    "df_cleaned.Lyrics.replace(r'SPOKEN: ', '', regex=True, inplace=True)\n",
    "df_cleaned.Lyrics.replace(r'\\[.*?\\]', '', regex=True, inplace=True)\n",
    "df_cleaned.Lyrics.replace(r'\\{.*?\\}', '', regex=True, inplace=True)\n",
    "df_cleaned.Lyrics.replace(r'(Spoken)', '', regex=True, inplace=True)\n",
    "df_cleaned.Lyrics.replace(r'(Chorus:.*?)|Chorus:|(Laughs)|()|(Intro:.*?)|(Verse.*?)|Verse 1|(Words and.*?)', \n",
    "                          '', regex=True, inplace=True)\n",
    "df_cleaned.Lyrics.replace(r'( Frankie Laine)|(Verse 1:.*?)', '', regex=True, inplace=True)\n",
    "df_cleaned.Lyrics.replace(r'\\(\\)', '', regex=True, inplace=True)\n",
    "df_cleaned.Lyrics.replace(r'\\(Verse.*?\\)', '', regex=True, inplace=True)\n",
    "df_cleaned.Lyrics.replace(r'\\(Chorus\\)', '', regex=True, inplace=True)"
   ]
  },
  {
   "cell_type": "markdown",
   "metadata": {},
   "source": [
    "# NLTK Analysis \n",
    "\n",
    "# TextBlob"
   ]
  },
  {
   "cell_type": "code",
   "execution_count": 122,
   "metadata": {
    "scrolled": true
   },
   "outputs": [],
   "source": [
    "#df_cleaned"
   ]
  },
  {
   "cell_type": "code",
   "execution_count": 123,
   "metadata": {},
   "outputs": [
    {
     "data": {
      "text/plain": [
       "(5750, 6)"
      ]
     },
     "execution_count": 123,
     "metadata": {},
     "output_type": "execute_result"
    }
   ],
   "source": [
    "df_cleaned.shape"
   ]
  },
  {
   "cell_type": "code",
   "execution_count": 124,
   "metadata": {},
   "outputs": [
    {
     "data": {
      "text/plain": [
       "'   \"Welcome to the real world\", she said to me Condescendingly Take a seat Take your life Plot it out in black and white Well I never lived the dreams of the prom kings And the drama queens I\\'d like to think the best of me Is still hiding Up my sleeve  They love to tell you Stay inside the lines But something\\'s better On the other side   I want to run through the halls of my high school I want to scream at the Top of my lungs I just found out there\\'s no such thing as the real world Just a lie you\\'ve got to rise above   So the good boys and girls take the so called right track Faded white hats Grabbing credits and Maybe transfers They read all the books but they can\\'t find the answers And all of our parents They\\'re getting older I wonder if they\\'ve wished for anything better While in their memories Tiny tragedies  They love to tell you Stay inside the lines But something\\'s better On the other side   I want to run through the halls of my high school I want to scream at the Top of my lungs I just found out there\\'s no such thing as the real world Just a lie you\\'ve got to rise above   I am invincible I am invincible I am invincible As long as I\\'m alive   I want to run through the halls of my high school I want to scream at the Top of my lungs I just found out there\\'s no such thing as the real world Just a lie you\\'ve got to rise above   I just can\\'t wait til my ten year reunion I\\'m going to bust down the double doors And when I stand on these tables before you You will know what all this time was for  \\''"
      ]
     },
     "execution_count": 124,
     "metadata": {},
     "output_type": "execute_result"
    }
   ],
   "source": [
    "jm_songs = df_cleaned[df_cleaned.Artist == \"John Mayer\"]\n",
    "noSuchThing = jm_songs.Lyrics[4469]\n",
    "noSuchThing"
   ]
  },
  {
   "cell_type": "code",
   "execution_count": 125,
   "metadata": {
    "scrolled": true
   },
   "outputs": [],
   "source": [
    "noSuchThing_blob = TextBlob(noSuchThing)"
   ]
  },
  {
   "cell_type": "markdown",
   "metadata": {},
   "source": [
    "## Stemming and Lemming"
   ]
  },
  {
   "cell_type": "code",
   "execution_count": 8,
   "metadata": {},
   "outputs": [],
   "source": [
    "lemma=nltk.stem.WordNetLemmatizer()\n",
    "# for word in noSuchThing_blob.words:\n",
    "#     print(lemma.lemmatize(word))"
   ]
  },
  {
   "cell_type": "markdown",
   "metadata": {},
   "source": [
    "# Bag of Words - Count Vectorizer"
   ]
  },
  {
   "cell_type": "code",
   "execution_count": 128,
   "metadata": {},
   "outputs": [
    {
     "data": {
      "text/plain": [
       "['   \"Welcome to the real world\", she said to me Condescendingly Take a seat Take your life Plot it out in black and white Well I never lived the dreams of the prom kings And the drama queens I\\'d like to think the best of me Is still hiding Up my sleeve  They love to tell you Stay inside the lines But something\\'s better On the other side   I want to run through the halls of my high school I want to scream at the Top of my lungs I just found out there\\'s no such thing as the real world Just a lie you\\'ve got to rise above   So the good boys and girls take the so called right track Faded white hats Grabbing credits and Maybe transfers They read all the books but they can\\'t find the answers And all of our parents They\\'re getting older I wonder if they\\'ve wished for anything better While in their memories Tiny tragedies  They love to tell you Stay inside the lines But something\\'s better On the other side   I want to run through the halls of my high school I want to scream at the Top of my lungs I just found out there\\'s no such thing as the real world Just a lie you\\'ve got to rise above   I am invincible I am invincible I am invincible As long as I\\'m alive   I want to run through the halls of my high school I want to scream at the Top of my lungs I just found out there\\'s no such thing as the real world Just a lie you\\'ve got to rise above   I just can\\'t wait til my ten year reunion I\\'m going to bust down the double doors And when I stand on these tables before you You will know what all this time was for  \\'']"
      ]
     },
     "execution_count": 128,
     "metadata": {},
     "output_type": "execute_result"
    }
   ],
   "source": [
    "[noSuchThing]"
   ]
  },
  {
   "cell_type": "code",
   "execution_count": 129,
   "metadata": {},
   "outputs": [
    {
     "name": "stdout",
     "output_type": "stream",
     "text": [
      "<bound method CountVectorizer.get_feature_names of CountVectorizer(analyzer='word', binary=False, decode_error='strict',\n",
      "        dtype=<class 'numpy.int64'>, encoding='utf-8', input='content',\n",
      "        lowercase=True, max_df=1.0, max_features=None, min_df=1,\n",
      "        ngram_range=(1, 1), preprocessor=None, stop_words=None,\n",
      "        strip_accents=None, token_pattern='(?u)\\\\b\\\\w\\\\w+\\\\b',\n",
      "        tokenizer=None, vocabulary=None)>\n"
     ]
    }
   ],
   "source": [
    "#First attempt - no parameters\n",
    "cv = CountVectorizer()\n",
    "x = cv.fit_transform([noSuchThing])\n",
    "print(cv.get_feature_names)"
   ]
  },
  {
   "cell_type": "code",
   "execution_count": 130,
   "metadata": {},
   "outputs": [],
   "source": [
    "x_back = x.toarray()"
   ]
  },
  {
   "cell_type": "code",
   "execution_count": 131,
   "metadata": {},
   "outputs": [
    {
     "data": {
      "text/html": [
       "<div>\n",
       "<style scoped>\n",
       "    .dataframe tbody tr th:only-of-type {\n",
       "        vertical-align: middle;\n",
       "    }\n",
       "\n",
       "    .dataframe tbody tr th {\n",
       "        vertical-align: top;\n",
       "    }\n",
       "\n",
       "    .dataframe thead th {\n",
       "        text-align: right;\n",
       "    }\n",
       "</style>\n",
       "<table border=\"1\" class=\"dataframe\">\n",
       "  <thead>\n",
       "    <tr style=\"text-align: right;\">\n",
       "      <th></th>\n",
       "      <th>above</th>\n",
       "      <th>alive</th>\n",
       "      <th>all</th>\n",
       "      <th>am</th>\n",
       "      <th>and</th>\n",
       "      <th>answers</th>\n",
       "      <th>anything</th>\n",
       "      <th>as</th>\n",
       "      <th>at</th>\n",
       "      <th>before</th>\n",
       "      <th>...</th>\n",
       "      <th>when</th>\n",
       "      <th>while</th>\n",
       "      <th>white</th>\n",
       "      <th>will</th>\n",
       "      <th>wished</th>\n",
       "      <th>wonder</th>\n",
       "      <th>world</th>\n",
       "      <th>year</th>\n",
       "      <th>you</th>\n",
       "      <th>your</th>\n",
       "    </tr>\n",
       "  </thead>\n",
       "  <tbody>\n",
       "    <tr>\n",
       "      <th>0</th>\n",
       "      <td>3</td>\n",
       "      <td>1</td>\n",
       "      <td>3</td>\n",
       "      <td>3</td>\n",
       "      <td>6</td>\n",
       "      <td>1</td>\n",
       "      <td>1</td>\n",
       "      <td>5</td>\n",
       "      <td>3</td>\n",
       "      <td>1</td>\n",
       "      <td>...</td>\n",
       "      <td>1</td>\n",
       "      <td>1</td>\n",
       "      <td>2</td>\n",
       "      <td>1</td>\n",
       "      <td>1</td>\n",
       "      <td>1</td>\n",
       "      <td>4</td>\n",
       "      <td>1</td>\n",
       "      <td>7</td>\n",
       "      <td>1</td>\n",
       "    </tr>\n",
       "  </tbody>\n",
       "</table>\n",
       "<p>1 rows × 132 columns</p>\n",
       "</div>"
      ],
      "text/plain": [
       "   above  alive  all  am  and  answers  anything  as  at  before  ...   when  \\\n",
       "0      3      1    3   3    6        1         1   5   3       1  ...      1   \n",
       "\n",
       "   while  white  will  wished  wonder  world  year  you  your  \n",
       "0      1      2     1       1       1      4     1    7     1  \n",
       "\n",
       "[1 rows x 132 columns]"
      ]
     },
     "execution_count": 131,
     "metadata": {},
     "output_type": "execute_result"
    }
   ],
   "source": [
    "pd.DataFrame(x_back, columns=cv.get_feature_names())"
   ]
  },
  {
   "cell_type": "code",
   "execution_count": 132,
   "metadata": {
    "scrolled": true
   },
   "outputs": [],
   "source": [
    "df_cleaned_copy = df_cleaned.copy()"
   ]
  },
  {
   "cell_type": "code",
   "execution_count": 133,
   "metadata": {},
   "outputs": [],
   "source": [
    "#df_cleaned_copy"
   ]
  },
  {
   "cell_type": "markdown",
   "metadata": {},
   "source": [
    "More Regex Cleaning on Lyrics"
   ]
  },
  {
   "cell_type": "code",
   "execution_count": 134,
   "metadata": {},
   "outputs": [],
   "source": [
    "#Changing all digits to 'NUM'\n",
    "#df_cleaned_copy.Lyrics.replace('\\d+|.+\\d+.+', 'NUM', regex=True, inplace=True)"
   ]
  },
  {
   "cell_type": "code",
   "execution_count": 135,
   "metadata": {},
   "outputs": [],
   "source": [
    "#Pickle\n",
    "with open(\"df_cleaned_copy.pkl\", \"wb\") as f:\n",
    "    pickle.dump(df_cleaned_copy, f)"
   ]
  },
  {
   "cell_type": "code",
   "execution_count": 3,
   "metadata": {},
   "outputs": [],
   "source": [
    "#Opening Pickle\n",
    "with open(\"df_cleaned_copy.pkl\", \"rb\") as f:\n",
    "    df_cleaned_copy = pickle.load(f)"
   ]
  },
  {
   "cell_type": "code",
   "execution_count": 1,
   "metadata": {
    "scrolled": false
   },
   "outputs": [],
   "source": [
    "# pd.set_option('max_rows', 70)\n",
    "df_cleaned_copy[df_cleaned_copy.position == 1.0]"
   ]
  },
  {
   "cell_type": "code",
   "execution_count": 5,
   "metadata": {},
   "outputs": [],
   "source": [
    "lyric_values = df_cleaned_copy.Lyrics.values"
   ]
  },
  {
   "cell_type": "code",
   "execution_count": 6,
   "metadata": {},
   "outputs": [],
   "source": [
    "# First attempt - no parameters\n",
    "# cv = CountVectorizer()\n",
    "# x = cv.fit_transform(lyric_values)\n",
    "# print(cv.get_feature_names)\n",
    "# x_back = x.toarray()\n",
    "# pd.DataFrame(x_back, columns=cv.get_feature_names())"
   ]
  },
  {
   "cell_type": "code",
   "execution_count": 9,
   "metadata": {},
   "outputs": [],
   "source": [
    "#lemming entire corpus - all lyrics need to be tokenized \n",
    "lemmed_lyrics = [lemma.lemmatize(word) for word in lyric_values]     "
   ]
  },
  {
   "cell_type": "code",
   "execution_count": 12,
   "metadata": {
    "scrolled": true
   },
   "outputs": [],
   "source": [
    "#before lemming - 18496\n",
    "#after lemming - 18496\n",
    "stop = stopwords.words('english')\n",
    "stop += ['.', ',', '(', ')', \"'\", '\"', '\\\\',\n",
    "         '02', '03', '04', '05', '06', '07',\n",
    "         '08', '09', '0801', '00', '000', '01',\n",
    "        '10', '100', '100k', '102', '1020', '105', '106',\n",
    "        '109', '10th', '11', '110', '112', '113', '118', '11th',\n",
    "        '12', '120', '129', '12th', '13', '135', '13th', '14', 'Verse',\n",
    "        'Arrangement', 'Chorus', 'Spoken', 'Outro', 'Intro', \n",
    "         '_davy', 'instrumental', 'num']\n",
    "stop = set(stop)\n",
    "cv = CountVectorizer(stop_words=stop, ngram_range=(1, 2),\n",
    "                    token_pattern=\"\\\\b[a-z][a-z]+\\\\b\",\n",
    "                    min_df=1)\n",
    "x = cv.fit_transform(lemmed_lyrics)\n",
    "x_back = x.toarray()\n",
    "#pd.DataFrame(x_back, columns=cv.get_feature_names())"
   ]
  },
  {
   "cell_type": "markdown",
   "metadata": {},
   "source": [
    "# TF-IDF"
   ]
  },
  {
   "cell_type": "code",
   "execution_count": 13,
   "metadata": {},
   "outputs": [],
   "source": [
    "from sklearn.feature_extraction.text import TfidfVectorizer\n",
    "from sklearn.naive_bayes import MultinomialNB"
   ]
  },
  {
   "cell_type": "code",
   "execution_count": 142,
   "metadata": {},
   "outputs": [],
   "source": [
    "count = []\n",
    "min_df_range = np.arange(0.001, 0.1, 0.01)\n",
    "for i in min_df_range:\n",
    "    tf = TfidfVectorizer(stop_words=stop, #ngram_range=(1, 2)\n",
    "                    token_pattern=\"\\\\b[a-z][a-z]+\\\\b\",\n",
    "                    min_df=i)\n",
    "    doc_vectors = tf.fit_transform(lemmed_lyrics)\n",
    "    count.append(len(tf.vocabulary_))\n",
    "    "
   ]
  },
  {
   "cell_type": "code",
   "execution_count": 143,
   "metadata": {},
   "outputs": [
    {
     "data": {
      "image/png": "[encoded data removed]",
      "text/plain": [
       "<Figure size 432x288 with 1 Axes>"
      ]
     },
     "metadata": {},
     "output_type": "display_data"
    }
   ],
   "source": [
    "plot(min_df_range, count)\n",
    "title(\"TF-IDF min_df values\")\n",
    "xlabel('min_df value')\n",
    "ylabel('Number of Features');"
   ]
  },
  {
   "cell_type": "code",
   "execution_count": 14,
   "metadata": {},
   "outputs": [],
   "source": [
    "stop = stopwords.words('english')\n",
    "stop += ['.', ',', '(', ')', \"'\", '\"', '\\\\',\n",
    "         '02', '03', '04', '05', '06', '07',\n",
    "         '08', '09', '0801', '00', '000', '01',\n",
    "        '10', '100', '100k', '102', '1020', '105', '106',\n",
    "        '109', '10th', '11', '110', '112', '113', '118', '11th',\n",
    "        '12', '120', '129', '12th', '13', '135', '13th', '14', 'Verse',\n",
    "        'Arrangement', 'Chorus', 'Spoken', 'Outro', 'Intro', \n",
    "         '_davy', 'instrumental', 'num']\n",
    "stop = set(stop)\n",
    "tf = TfidfVectorizer(stop_words=stop, #ngram_range=(1, 2),\n",
    "                    token_pattern=\"\\\\b[a-z][a-z]+\\\\b\",\n",
    "                    min_df=.011)\n",
    "doc_vectors = tf.fit_transform(lemmed_lyrics)"
   ]
  },
  {
   "cell_type": "code",
   "execution_count": 15,
   "metadata": {
    "scrolled": true
   },
   "outputs": [],
   "source": [
    "doc_vectors_back = doc_vectors.toarray()"
   ]
  },
  {
   "cell_type": "code",
   "execution_count": 2,
   "metadata": {
    "scrolled": true
   },
   "outputs": [],
   "source": [
    "# TF-IDF Dataframe after some tuning with min_df, n-grams, tokenization\n",
    "# pd.DataFrame(doc_vectors_back, columns=tf.get_feature_names())"
   ]
  },
  {
   "cell_type": "markdown",
   "metadata": {},
   "source": [
    "# NMF"
   ]
  },
  {
   "cell_type": "code",
   "execution_count": 149,
   "metadata": {},
   "outputs": [],
   "source": [
    "n_topics = 10\n",
    "nmf = NMF(n_components=n_topics, random_state=1234, alpha=.1, l1_ratio=0.5, init='nndsvd').fit(doc_vectors)"
   ]
  },
  {
   "cell_type": "code",
   "execution_count": 150,
   "metadata": {},
   "outputs": [],
   "source": [
    "# from http://scikit-learn.org/stable/auto_examples/applications/plot_topics_extraction_with_nmf_lda.html#sphx-glr-auto-examples-applications-plot-topics-extraction-with-nmf-lda-py\n",
    "\n",
    "def print_top_words(model, feature_names, n_top_words):\n",
    "    for topic_idx, topic in enumerate(model.components_):\n",
    "        message = \"Topic #%d: \" % topic_idx\n",
    "        message += \" \".join([feature_names[i]\n",
    "                             for i in topic.argsort()[:-n_top_words - 1:-1]])\n",
    "        print(message)\n",
    "\n",
    "        "
   ]
  },
  {
   "cell_type": "code",
   "execution_count": 151,
   "metadata": {},
   "outputs": [
    {
     "name": "stdout",
     "output_type": "stream",
     "text": [
      "Topic #0: know never time one say heart away life could day\n",
      "Topic #1: love heart true girl need got sweet know give always\n",
      "Topic #2: oh whoa night uh girl ah woah take tonight yes\n",
      "Topic #3: baby come wanna good hey tonight lovin girl need sweet\n",
      "Topic #4: la da na hey yo ay like new tonight push\n",
      "Topic #5: get like got wanna girl ya hey man gonna cause\n",
      "Topic #6: ooh ah woah doo get whoa woo take hey babe\n",
      "Topic #7: let go come dance please take tonight hold back rock\n",
      "Topic #8: yeah hey come good uh ah know really huh got\n",
      "Topic #9: want need know wanna tell really give hold make touch\n"
     ]
    }
   ],
   "source": [
    "print_top_words(nmf, tf.get_feature_names(), 10)"
   ]
  },
  {
   "cell_type": "code",
   "execution_count": 152,
   "metadata": {},
   "outputs": [
    {
     "name": "stdout",
     "output_type": "stream",
     "text": [
      "shape before transforming to topic space: (5750, 987)\n",
      "shape after transforming to topic space: (5750, 10)\n"
     ]
    }
   ],
   "source": [
    "# now let's transform our documents to topic-space\n",
    "print(f\"shape before transforming to topic space: {doc_vectors.shape}\")\n",
    "\n",
    "doc_topics = nmf.transform(doc_vectors)\n",
    "\n",
    "print(f\"shape after transforming to topic space: {doc_topics.shape}\")"
   ]
  },
  {
   "cell_type": "code",
   "execution_count": 153,
   "metadata": {},
   "outputs": [
    {
     "data": {
      "text/plain": [
       "[1950, 1960)    469\n",
       "[1960, 1970)    902\n",
       "[1970, 1980)    949\n",
       "[1980, 1990)    974\n",
       "[1990, 2000)    951\n",
       "[2000, 2010)    941\n",
       "[2010, 2016)    564\n",
       "Name: Decade, dtype: int64"
      ]
     },
     "execution_count": 153,
     "metadata": {},
     "output_type": "execute_result"
    }
   ],
   "source": [
    "df_cleaned_copy.Decade.value_counts().sort_index()"
   ]
  },
  {
   "cell_type": "markdown",
   "metadata": {},
   "source": [
    "# Topic Modeling by Decade "
   ]
  },
  {
   "cell_type": "code",
   "execution_count": 160,
   "metadata": {
    "scrolled": false
   },
   "outputs": [],
   "source": [
    "df_cleaned_copy['Decade'] = df_cleaned_copy.Decade.astype('str')"
   ]
  },
  {
   "cell_type": "code",
   "execution_count": 164,
   "metadata": {
    "scrolled": true
   },
   "outputs": [
    {
     "data": {
      "text/plain": [
       "'[1950, 1960)'"
      ]
     },
     "execution_count": 164,
     "metadata": {},
     "output_type": "execute_result"
    }
   ],
   "source": [
    "df_cleaned_copy.Decade[0]"
   ]
  },
  {
   "cell_type": "code",
   "execution_count": 165,
   "metadata": {},
   "outputs": [],
   "source": [
    "fiftys = df_cleaned_copy[df_cleaned_copy.Decade == '[1950, 1960)']"
   ]
  },
  {
   "cell_type": "code",
   "execution_count": 205,
   "metadata": {
    "scrolled": true
   },
   "outputs": [],
   "source": [
    "fiftys_lyrics = fiftys.Lyrics.values"
   ]
  },
  {
   "cell_type": "code",
   "execution_count": 206,
   "metadata": {},
   "outputs": [
    {
     "name": "stdout",
     "output_type": "stream",
     "text": [
      "Topics for the 1950s:\n",
      "\n",
      "Topic #0: love know heart never true say like one mine come\n",
      "Topic #1: yeah mm gonna got find feeling come uh right well\n",
      "Topic #2: oh ah uh tell please stay little dark tonight mm\n",
      "Topic #3: doo dee get ee come da ah goes cryin say\n",
      "Topic #4: baby well bop doll ee ya want bye lovin fun\n",
      "Topic #5: go let rock home roll come stroll tight wanna day\n",
      "Topic #6: ooh wait cause crazy girl band left shoes wonder fall\n"
     ]
    }
   ],
   "source": [
    "stop = stopwords.words('english')\n",
    "stop += ['.', ',', '(', ')', \"'\", '\"', '\\\\',\n",
    "         '02', '03', '04', '05', '06', '07',\n",
    "         '08', '09', '0801', '00', '000', '01',\n",
    "        '10', '100', '100k', '102', '1020', '105', '106',     '109', '10th', '11', '110', '112', '113', '118', '11th',\n",
    "        '12', '120', '129', '12th', '13', '135', '13th', '14', 'Verse',\n",
    "        'Arrangement', 'Chorus', 'Spoken', 'Outro', 'Intro', \n",
    "         '_davy', 'instrumental', 'num']\n",
    "stop = set(stop)\n",
    "tf = TfidfVectorizer(stop_words=stop, #ngram_range=(1, 2),\n",
    "                    token_pattern=\"\\\\b[a-z][a-z]+\\\\b\",\n",
    "                    min_df=.011)\n",
    "doc_vectors_50s = tf.fit_transform(fiftys_lyrics)\n",
    "doc_vectors_back_50s = doc_vectors_50s.toarray()\n",
    "pd.DataFrame(doc_vectors_back_50s, columns=tf.get_feature_names())\n",
    "\n",
    "n_topics = 7\n",
    "nmf = NMF(n_components=n_topics, random_state=1234, alpha=.1, l1_ratio=0.5, init='nndsvd').fit(doc_vectors_50s)\n",
    "\n",
    "def print_top_words(model, feature_names, n_top_words):\n",
    "    for topic_idx, topic in enumerate(model.components_):\n",
    "        message = \"Topic #%d: \" % topic_idx\n",
    "        message += \" \".join([feature_names[i]\n",
    "                             for i in topic.argsort()[:-n_top_words - 1:-1]])\n",
    "        print(message)\n",
    "\n",
    "print(\"Topics for the 1950s:\\n\")\n",
    "print_top_words(nmf, tf.get_feature_names(), 10)        "
   ]
  },
  {
   "cell_type": "code",
   "execution_count": 191,
   "metadata": {},
   "outputs": [],
   "source": [
    "sixtys = df_cleaned_copy[df_cleaned_copy.Decade == '[1960, 1970)'].reset_index().drop('index', axis=1)"
   ]
  },
  {
   "cell_type": "code",
   "execution_count": 196,
   "metadata": {},
   "outputs": [],
   "source": [
    "sixtys_lyrics = sixtys.Lyrics.values"
   ]
  },
  {
   "cell_type": "code",
   "execution_count": 204,
   "metadata": {},
   "outputs": [
    {
     "name": "stdout",
     "output_type": "stream",
     "text": [
      "Topics for the 1960s:\n",
      "\n",
      "Topic #0: love true know need always heart say never way tell\n",
      "Topic #1: baby good oh ooh ya hey lovin need real wanna\n",
      "Topic #2: little go girl know one get got time see never\n",
      "Topic #3: la de tonight da mean closer friend cried choose lose\n",
      "Topic #4: yeah oh ooh whoa got huh ah know really good\n",
      "Topic #5: come twist show back like let ah tonight hey please\n",
      "Topic #6: none young green gun guide guess grows grown grow ground\n"
     ]
    }
   ],
   "source": [
    "stop = stopwords.words('english')\n",
    "stop += ['.', ',', '(', ')', \"'\", '\"', '\\\\',\n",
    "         '02', '03', '04', '05', '06', '07',\n",
    "         '08', '09', '0801', '00', '000', '01',\n",
    "        '10', '100', '100k', '102', '1020', '105', '106',     '109', '10th', '11', '110', '112', '113', '118', '11th',\n",
    "        '12', '120', '129', '12th', '13', '135', '13th', '14', 'Verse',\n",
    "        'Arrangement', 'Chorus', 'Spoken', 'Outro', 'Intro', \n",
    "         '_davy', 'instrumental', 'num']\n",
    "stop = set(stop)\n",
    "tf = TfidfVectorizer(stop_words=stop, #ngram_range=(1, 2),\n",
    "                    token_pattern=\"\\\\b[a-z][a-z]+\\\\b\",\n",
    "                    min_df=.011)\n",
    "doc_vectors_60s = tf.fit_transform(sixtys_lyrics)\n",
    "doc_vectors_back_60s = doc_vectors_60s.toarray()\n",
    "pd.DataFrame(doc_vectors_back_60s, columns=tf.get_feature_names())\n",
    "\n",
    "n_topics = 7\n",
    "nmf = NMF(n_components=n_topics, random_state=1234, alpha=.1, l1_ratio=0.5, init='nndsvd').fit(doc_vectors_60s)\n",
    "\n",
    "def print_top_words(model, feature_names, n_top_words):\n",
    "    for topic_idx, topic in enumerate(model.components_):\n",
    "        message = \"Topic #%d: \" % topic_idx\n",
    "        message += \" \".join([feature_names[i]\n",
    "                             for i in topic.argsort()[:-n_top_words - 1:-1]])\n",
    "        print(message)\n",
    "\n",
    "print(\"Topics for the 1960s:\\n\")\n",
    "print_top_words(nmf, tf.get_feature_names(), 10)        "
   ]
  },
  {
   "cell_type": "code",
   "execution_count": 199,
   "metadata": {},
   "outputs": [],
   "source": [
    "seventys = df_cleaned_copy[df_cleaned_copy.Decade == '[1970, 1980)']\n",
    "#seventys"
   ]
  },
  {
   "cell_type": "code",
   "execution_count": 201,
   "metadata": {},
   "outputs": [],
   "source": [
    "seventys_lyrics = seventys.Lyrics.values"
   ]
  },
  {
   "cell_type": "code",
   "execution_count": 203,
   "metadata": {},
   "outputs": [
    {
     "name": "stdout",
     "output_type": "stream",
     "text": [
      "Topics for the 1970s:\n",
      "\n",
      "Topic #0: know got time go like come let way gonna one\n",
      "Topic #1: la da friends hot line hey new someday children brand\n",
      "Topic #2: love want ya fall feel like need sweet heart never\n",
      "Topic #3: baby come get let dance hey worry give want hold\n",
      "Topic #4: boogie get dance dancing disco got ah want uh man\n",
      "Topic #5: oh yeah sweet girl whoa best disco ah nobody want\n",
      "Topic #6: ooh hey get yeah heaven ride hoo doctor goodbye say\n"
     ]
    }
   ],
   "source": [
    "stop = stopwords.words('english')\n",
    "stop += ['.', ',', '(', ')', \"'\", '\"', '\\\\',\n",
    "         '02', '03', '04', '05', '06', '07',\n",
    "         '08', '09', '0801', '00', '000', '01',\n",
    "        '10', '100', '100k', '102', '1020', '105', '106',     '109', '10th', '11', '110', '112', '113', '118', '11th',\n",
    "        '12', '120', '129', '12th', '13', '135', '13th', '14', 'Verse',\n",
    "        'Arrangement', 'Chorus', 'Spoken', 'Outro', 'Intro', \n",
    "         '_davy', 'instrumental', 'num']\n",
    "stop = set(stop)\n",
    "tf = TfidfVectorizer(stop_words=stop, #ngram_range=(1, 2),\n",
    "                    token_pattern=\"\\\\b[a-z][a-z]+\\\\b\",\n",
    "                    min_df=.011)\n",
    "doc_vectors_70s = tf.fit_transform(seventys_lyrics)\n",
    "doc_vectors_back_70s = doc_vectors_70s.toarray()\n",
    "pd.DataFrame(doc_vectors_back_70s, columns=tf.get_feature_names())\n",
    "\n",
    "n_topics = 7\n",
    "nmf = NMF(n_components=n_topics, random_state=1234, alpha=.1, l1_ratio=0.5, init='nndsvd').fit(doc_vectors_70s)\n",
    "\n",
    "def print_top_words(model, feature_names, n_top_words):\n",
    "    for topic_idx, topic in enumerate(model.components_):\n",
    "        message = \"Topic #%d: \" % topic_idx\n",
    "        message += \" \".join([feature_names[i]\n",
    "                             for i in topic.argsort()[:-n_top_words - 1:-1]])\n",
    "        print(message)\n",
    "\n",
    "print(\"Topics for the 1970s:\\n\")\n",
    "print_top_words(nmf, tf.get_feature_names(), 10)        "
   ]
  }
 ],
 "metadata": {
  "kernelspec": {
   "display_name": "Python 3",
   "language": "python",
   "name": "python3"
  },
  "language_info": {
   "codemirror_mode": {
    "name": "ipython",
    "version": 3
   },
   "file_extension": ".py",
   "mimetype": "text/x-python",
   "name": "python",
   "nbconvert_exporter": "python",
   "pygments_lexer": "ipython3",
   "version": "3.6.4"
  }
 },
 "nbformat": 4,
 "nbformat_minor": 2
}
